{
 "cells": [
  {
   "attachments": {},
   "cell_type": "markdown",
   "metadata": {},
   "source": [
    "REGEX com ChatGPT\n",
    "\n",
    "Trabalhando com Expressões Regulares para manipular dados de uma letra musical, utilizando o ChatGPT como auxiliar.\n",
    "\n",
    "-> Música: Tempo Perdido (Legião Urbana)"
   ]
  },
  {
   "cell_type": "code",
   "execution_count": 3,
   "metadata": {},
   "outputs": [],
   "source": [
    "musica = '''\n",
    "Todos os dias quando acordo\n",
    "Não tenho mais\n",
    "O tempo que passou\n",
    "Mas tenho muito tempo\n",
    "Temos todo o tempo do mundo\n",
    "Todos os dias\n",
    "Antes de dormir\n",
    "Lembro e esqueço\n",
    "Como foi o dia\n",
    "Sempre em frente\n",
    "Não temos tempo a perder\n",
    "Nosso suor sagrado\n",
    "É bem mais belo\n",
    "Que esse sangue amargo\n",
    "E tão sério\n",
    "E selvagem! Selvagem!\n",
    "Selvagem!\n",
    "Veja o sol\n",
    "Dessa manhã tão cinza\n",
    "A tempestade que chega\n",
    "É da cor dos teus olhos\n",
    "Castanhos\n",
    "Então me abraça forte\n",
    "E diz mais uma vez\n",
    "Que já estamos\n",
    "Distantes de tudo\n",
    "Temos nosso próprio tempo\n",
    "Temos nosso próprio tempo\n",
    "Temos nosso próprio tempo\n",
    "Não tenho medo do escuro\n",
    "Mas deixe as luzes\n",
    "Acesas agora\n",
    "O que foi escondido\n",
    "É o que se escondeu\n",
    "E o que foi prometido\n",
    "Ninguém prometeu\n",
    "Nem foi tempo perdido\n",
    "Somos tão jovens\n",
    "Tão jovens! Tão jovens!\n",
    "'''"
   ]
  },
  {
   "cell_type": "code",
   "execution_count": 4,
   "metadata": {},
   "outputs": [
    {
     "name": "stdout",
     "output_type": "stream",
     "text": [
      "Quantidade de vezes que 'a' aparece na musica: 42\n"
     ]
    }
   ],
   "source": [
    "# 1- Criando um REGEX para contar quantas vezes o caracter \"a\" aparece em todo o texto da música:\n",
    "\n",
    "import re\n",
    "\n",
    "ocorrencias = re.findall(r\"a\", musica, re.IGNORECASE)\n",
    "quantidade = len(ocorrencias)\n",
    "print(\"Quantidade de vezes que 'a' aparece na musica:\", quantidade)\n",
    "\n",
    "# Obs: Nesse caso o parâmetro \"re.IGNORECASE\" é usado para fazer a pesquisa sem distinguir entre maiúsculas e minúsculas."
   ]
  },
  {
   "attachments": {},
   "cell_type": "markdown",
   "metadata": {},
   "source": []
  },
  {
   "cell_type": "code",
   "execution_count": 5,
   "metadata": {},
   "outputs": [
    {
     "name": "stdout",
     "output_type": "stream",
     "text": [
      "Quantidade de vezes que 'tempo' aparece na música: 8\n"
     ]
    }
   ],
   "source": [
    "# 2- Criando um REGEX para contar quantas vezes a palavra tempo aparece na música:\n",
    "\n",
    "ocorrencias = re.findall(r'\\btempo\\b', musica, re.IGNORECASE)\n",
    "quantidade = len(ocorrencias)\n",
    "print(\"Quantidade de vezes que 'tempo' aparece na música:\", quantidade)"
   ]
  },
  {
   "cell_type": "code",
   "execution_count": 6,
   "metadata": {},
   "outputs": [
    {
     "name": "stdout",
     "output_type": "stream",
     "text": [
      "Palavras seguidas por exclamação encontradas: \n",
      "selvagem!\n",
      "Selvagem!\n",
      "Selvagem!\n",
      "jovens!\n",
      "jovens!\n"
     ]
    }
   ],
   "source": [
    "# 3- Criando um REGEX para extrair as palavras seguidas por exclamação.\n",
    "palavras_exclamacao = re.findall(r'\\b\\w+!', musica)\n",
    "print(\"Palavras seguidas por exclamação encontradas: \")\n",
    "for palavra in palavras_exclamacao:\n",
    "    print(palavra)"
   ]
  },
  {
   "cell_type": "code",
   "execution_count": 7,
   "metadata": {},
   "outputs": [
    {
     "name": "stdout",
     "output_type": "stream",
     "text": [
      "Palavras encontradas:\n",
      "-> sangue\n"
     ]
    }
   ],
   "source": [
    "# 4- Criando um REGEX que extrai qualquer palavra cujo antecessor \n",
    "# seja a palavra \"esse\" e o sucessor seja a palavra \"amargo\" em um texto.\n",
    "\n",
    "padrao = r'(?<=\\besse\\s)\\w+(?=\\samargo\\b)'\n",
    "palavras = re.findall(padrao, musica, re.IGNORECASE)\n",
    "print(\"Palavras encontradas:\")\n",
    "for palavra in palavras:\n",
    "    print('->', palavra)"
   ]
  },
  {
   "cell_type": "code",
   "execution_count": 12,
   "metadata": {},
   "outputs": [
    {
     "name": "stdout",
     "output_type": "stream",
     "text": [
      "Palavras com acento encontradas:\n",
      "1. Nã\n",
      "2. esqueç\n",
      "3. Nã\n",
      "4. tã\n",
      "5. sé\n",
      "6. manhã\n",
      "7. tã\n",
      "8. Entã\n",
      "9. abraç\n",
      "10. já\n",
      "11. pró\n",
      "12. pró\n",
      "13. pró\n",
      "14. Nã\n",
      "15. Ningué\n",
      "16. tã\n",
      "17. Tã\n",
      "18. Tã\n"
     ]
    }
   ],
   "source": [
    "# 5- Criando um REGEX que retorne as palavras com acento, \n",
    "# mas somente os caracteres na palavra que são anteriores ao caracter com acento.\n",
    "\n",
    "palavras_com_acento = re.findall(r'\\b[\\wÀ-ÿ]+[áéíóúãõç]', musica)\n",
    "print(\"Palavras com acento encontradas:\")\n",
    "n = 1\n",
    "for palavra in palavras_com_acento:\n",
    "    print(f'{n}.', palavra)\n",
    "    n += 1"
   ]
  },
  {
   "attachments": {},
   "cell_type": "markdown",
   "metadata": {},
   "source": [
    "FIM"
   ]
  }
 ],
 "metadata": {
  "kernelspec": {
   "display_name": "Cap06",
   "language": "python",
   "name": "python3"
  },
  "language_info": {
   "codemirror_mode": {
    "name": "ipython",
    "version": 3
   },
   "file_extension": ".py",
   "mimetype": "text/x-python",
   "name": "python",
   "nbconvert_exporter": "python",
   "pygments_lexer": "ipython3",
   "version": "3.10.11"
  },
  "orig_nbformat": 4
 },
 "nbformat": 4,
 "nbformat_minor": 2
}
